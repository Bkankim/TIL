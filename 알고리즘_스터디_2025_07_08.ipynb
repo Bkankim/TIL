{
  "nbformat": 4,
  "nbformat_minor": 0,
  "metadata": {
    "colab": {
      "provenance": [],
      "authorship_tag": "ABX9TyPAdYOWrBtyHvo5g3fkzQD7",
      "include_colab_link": true
    },
    "kernelspec": {
      "name": "python3",
      "display_name": "Python 3"
    },
    "language_info": {
      "name": "python"
    }
  },
  "cells": [
    {
      "cell_type": "markdown",
      "metadata": {
        "id": "view-in-github",
        "colab_type": "text"
      },
      "source": [
        "<a href=\"https://colab.research.google.com/github/Bkankim/TIL/blob/main/%EC%95%8C%EA%B3%A0%EB%A6%AC%EC%A6%98_%EC%8A%A4%ED%84%B0%EB%94%94_2025_07_08.ipynb\" target=\"_parent\"><img src=\"https://colab.research.google.com/assets/colab-badge.svg\" alt=\"Open In Colab\"/></a>"
      ]
    },
    {
      "cell_type": "code",
      "execution_count": 3,
      "metadata": {
        "colab": {
          "base_uri": "https://localhost:8080/"
        },
        "id": "fXglna_pcV1d",
        "outputId": "8bd8575a-e8c0-46d8-c0e1-261269d1be12"
      },
      "outputs": [
        {
          "output_type": "stream",
          "name": "stdout",
          "text": [
            "ProgrammerS\n",
            "He110\n"
          ]
        }
      ],
      "source": [
        "## 문제 49 : 문자열의 앞의 n글자\n",
        "\n",
        "# 기본 간결화 풀이\n",
        "def solution(my_string, n):\n",
        "    return my_string[:n]\n",
        "\n",
        "print(solution(\"ProgrammerS123\", 11))\n",
        "print(solution(\"He110W0r1d\", 5))"
      ]
    },
    {
      "cell_type": "code",
      "source": [
        "## 문제 50 : 할 일 목록\n",
        "\n",
        "# 기본 for문\n",
        "def solution(todo_list, finished):\n",
        "    answer = []\n",
        "    for i in range(len(todo_list)):\n",
        "        if finished[i] == False:\n",
        "            answer.append(todo_list[i])\n",
        "    return answer\n",
        "\n",
        "print(solution([\"problemsolving\", \"practiceguitar\", \"swim\", \"studygraph\"], [True, False, True, False]))\n",
        "\n",
        "\n",
        "# 리스트 컴프리헨션 + zip\n",
        "def solution(todo_list, finished):\n",
        "    return [i for i, j in zip(todo_list, finished) if not j]\n",
        "\n",
        "print(solution([\"problemsolving\", \"practiceguitar\", \"swim\", \"studygraph\"], [True, False, True, False]))"
      ],
      "metadata": {
        "colab": {
          "base_uri": "https://localhost:8080/"
        },
        "id": "0R_F5L_Fc4pk",
        "outputId": "fd2adb55-02d4-4cfb-a4dd-d8190637295a"
      },
      "execution_count": 16,
      "outputs": [
        {
          "output_type": "stream",
          "name": "stdout",
          "text": [
            "['practiceguitar', 'studygraph']\n",
            "['practiceguitar', 'studygraph']\n"
          ]
        }
      ]
    },
    {
      "cell_type": "code",
      "source": [
        "## 문제 51 : 배열 만들기 1\n",
        "\n",
        "# 기본 for문\n",
        "def solution(n, k):\n",
        "    answer = []\n",
        "    for i in range(1, n + 1):\n",
        "        if i % k == 0:\n",
        "            answer.append(i)\n",
        "    return answer\n",
        "\n",
        "print(solution(10, 3))\n",
        "print(solution(15, 5))\n",
        "\n",
        "\n",
        "# range 간결화\n",
        "def solution(n, k):\n",
        "    answer = []\n",
        "    for i in range(k, n + 1, k):\n",
        "            answer.append(i)\n",
        "    return answer\n",
        "\n",
        "print(solution(10, 3))\n",
        "print(solution(15, 5))\n",
        "\n",
        "\n",
        "# 리스트 컴프리헨션\n",
        "def solution(n, k):\n",
        "    return [i for i in range(k, n + 1, k)]\n",
        "\n",
        "print(solution(10, 3))\n",
        "print(solution(15, 5))"
      ],
      "metadata": {
        "colab": {
          "base_uri": "https://localhost:8080/"
        },
        "id": "FOlqemrcc41q",
        "outputId": "c7905966-8edf-47e7-e495-22d7ac78718a"
      },
      "execution_count": 23,
      "outputs": [
        {
          "output_type": "stream",
          "name": "stdout",
          "text": [
            "[3, 6, 9]\n",
            "[5, 10, 15]\n",
            "[3, 6, 9]\n",
            "[5, 10, 15]\n",
            "[3, 6, 9]\n",
            "[5, 10, 15]\n"
          ]
        }
      ]
    }
  ]
}