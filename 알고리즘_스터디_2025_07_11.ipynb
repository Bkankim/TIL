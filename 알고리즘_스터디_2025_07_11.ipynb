{
  "nbformat": 4,
  "nbformat_minor": 0,
  "metadata": {
    "colab": {
      "provenance": [],
      "authorship_tag": "ABX9TyPUBuMlg8FTxc9zwYIhRZIO",
      "include_colab_link": true
    },
    "kernelspec": {
      "name": "python3",
      "display_name": "Python 3"
    },
    "language_info": {
      "name": "python"
    }
  },
  "cells": [
    {
      "cell_type": "markdown",
      "metadata": {
        "id": "view-in-github",
        "colab_type": "text"
      },
      "source": [
        "<a href=\"https://colab.research.google.com/github/Bkankim/TIL/blob/main/%EC%95%8C%EA%B3%A0%EB%A6%AC%EC%A6%98_%EC%8A%A4%ED%84%B0%EB%94%94_2025_07_11.ipynb\" target=\"_parent\"><img src=\"https://colab.research.google.com/assets/colab-badge.svg\" alt=\"Open In Colab\"/></a>"
      ]
    },
    {
      "cell_type": "code",
      "execution_count": 47,
      "metadata": {
        "colab": {
          "base_uri": "https://localhost:8080/"
        },
        "id": "-yxNb-GGjazO",
        "outputId": "0ad79df8-f6c2-4e20-9a01-fe312a3b30d2"
      },
      "outputs": [
        {
          "output_type": "stream",
          "name": "stdout",
          "text": [
            "0\n",
            "052\n",
            "0\n",
            "052\n"
          ]
        }
      ],
      "source": [
        "## 문제 58 : 가위 바위 보\n",
        "\n",
        "# 기본 for문\n",
        "def solution(rsp):\n",
        "    answer = []\n",
        "    for i in rsp:\n",
        "        if i == \"2\":\n",
        "            answer.append(\"0\")\n",
        "        elif i == \"0\":\n",
        "            answer.append(\"5\")\n",
        "        elif i == \"5\":\n",
        "            answer.append(\"2\")\n",
        "    return ''.join(answer)\n",
        "\n",
        "print(solution(\"2\"))\n",
        "print(solution(\"205\"))\n",
        "\n",
        "\n",
        "# translate(), maketrans() 함수 활용법\n",
        "def solution(rsp):\n",
        "    return rsp.translate(str.maketrans(\"205\", \"052\"))\n",
        "\n",
        "print(solution(\"2\"))\n",
        "print(solution(\"205\"))"
      ]
    },
    {
      "cell_type": "code",
      "source": [
        "## 문제 59 : 글자 이어 붙여 문자열 만들기\n",
        "\n",
        "# 기본 for문\n",
        "def solution(my_string, index_list):\n",
        "    answer = []\n",
        "    for i in index_list:\n",
        "        answer.append(my_string[i])\n",
        "    return ''.join(answer)\n",
        "\n",
        "print(solution(\"cvsgiorszzzmrpaqpe\", [16, 6, 5, 3, 12, 14, 11, 11, 17, 12, 7]))\n",
        "print(solution(\"zpiaz\", [1, 2, 0, 0, 3]))\n",
        "\n",
        "\n",
        "# 리스트 컴프리헨션\n",
        "def solution(my_string, index_list):\n",
        "    return ''.join([my_string[i] for i in index_list])\n",
        "\n",
        "print(solution(\"cvsgiorszzzmrpaqpe\", [16, 6, 5, 3, 12, 14, 11, 11, 17, 12, 7]))\n",
        "print(solution(\"zpiaz\", [1, 2, 0, 0, 3]))"
      ],
      "metadata": {
        "colab": {
          "base_uri": "https://localhost:8080/"
        },
        "id": "VACHfYuZjisr",
        "outputId": "f8becff8-a4c1-4604-89ab-a8ad0607c493"
      },
      "execution_count": 46,
      "outputs": [
        {
          "output_type": "stream",
          "name": "stdout",
          "text": [
            "programmers\n",
            "pizza\n",
            "programmers\n",
            "pizza\n"
          ]
        }
      ]
    },
    {
      "cell_type": "code",
      "source": [
        "## 문제 60 : 수 조작하기 2\n",
        "\n",
        "# 기본 for문 if / else\n",
        "def solution(numLog):\n",
        "    answer = []\n",
        "    for i in range(1, len(numLog)):\n",
        "        if numLog[i - 1] + 1 == numLog[i]:\n",
        "            answer.append('w')\n",
        "        elif numLog[i - 1] - 1 == numLog[i]:\n",
        "            answer.append('s')\n",
        "        elif numLog[i - 1] + 10 == numLog[i]:\n",
        "            answer.append('d')\n",
        "        else:\n",
        "            answer.append('a')\n",
        "    return ''.join(answer)\n",
        "\n",
        "print(solution([0, 1, 0, 10, 0, 1, 0, 10, 0, -1, -2, -1]))\n",
        "\n",
        "\n",
        "# 딕셔너리 함수 사용식\n",
        "def solution(numLog):\n",
        "    answer = []\n",
        "    dict_n = dict(zip([+1, -1, +10, -10], ['w', 's', 'd', 'a']))\n",
        "    for i in range(1, len(numLog)):\n",
        "        answer.append(dict_n[numLog[i] - numLog[i - 1]])\n",
        "    return ''.join(answer)\n",
        "\n",
        "print(solution([0, 1, 0, 10, 0, 1, 0, 10, 0, -1, -2, -1]))"
      ],
      "metadata": {
        "colab": {
          "base_uri": "https://localhost:8080/"
        },
        "id": "BAIc8XMrji3g",
        "outputId": "ba509ed2-952d-4651-ae7b-939a6612dcd9"
      },
      "execution_count": 15,
      "outputs": [
        {
          "output_type": "stream",
          "name": "stdout",
          "text": [
            "wsdawsdassw\n",
            "wsdawsdassw\n"
          ]
        }
      ]
    }
  ]
}