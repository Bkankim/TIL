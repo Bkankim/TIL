{
  "nbformat": 4,
  "nbformat_minor": 0,
  "metadata": {
    "colab": {
      "provenance": [],
      "authorship_tag": "ABX9TyMxXg/7MtFi11D/Df0KdVoW",
      "include_colab_link": true
    },
    "kernelspec": {
      "name": "python3",
      "display_name": "Python 3"
    },
    "language_info": {
      "name": "python"
    }
  },
  "cells": [
    {
      "cell_type": "markdown",
      "metadata": {
        "id": "view-in-github",
        "colab_type": "text"
      },
      "source": [
        "<a href=\"https://colab.research.google.com/github/Bkankim/TIL/blob/main/%EC%95%8C%EA%B3%A0%EB%A6%AC%EC%A6%98_%EC%8A%A4%ED%84%B0%EB%94%94_2025_07_09.ipynb\" target=\"_parent\"><img src=\"https://colab.research.google.com/assets/colab-badge.svg\" alt=\"Open In Colab\"/></a>"
      ]
    },
    {
      "cell_type": "code",
      "execution_count": 88,
      "metadata": {
        "colab": {
          "base_uri": "https://localhost:8080/"
        },
        "id": "fWpaZpWvd8UY",
        "outputId": "6540ea2e-5081-4322-9c4f-ff5cfd66673e"
      },
      "outputs": [
        {
          "output_type": "stream",
          "name": "stdout",
          "text": [
            "abcde\n",
            "Cdbe\n"
          ]
        }
      ],
      "source": [
        "## 문제 52 : 특정 문자 제거하기\n",
        "\n",
        "# 간결화\n",
        "def solution(my_string, letter):\n",
        "    return my_string.replace(letter, '')\n",
        "\n",
        "print(solution(\"abcdef\", \"f\"))\n",
        "print(solution(\"BCBdbe\", \"B\"))"
      ]
    },
    {
      "cell_type": "code",
      "source": [
        "## 문제 53 : 접미사인지 확인하기\n",
        "\n",
        "\n",
        "#\n",
        "def solution(my_string, is_suffix):\n",
        "    answer = 0\n",
        "    for i in range(len(my_string)):\n",
        "        if my_string[i:] == is_suffix:\n",
        "            answer += 1\n",
        "    return answer\n",
        "\n",
        "print(solution(\"banana\", \"ana\"))\n",
        "print(solution(\"banana\", \"nan\"))\n",
        "print(solution(\"banana\", \"wxyz\"))\n",
        "print(solution(\"banana\", \"abanana\"))\n",
        "\n",
        "\n",
        "# endswith() 함수를 이용한 간결화식\n",
        "# -> 특정 접미사로 끝나면 True 반환\n",
        "def solution(my_string, is_suffix):\n",
        "    return int(my_string.endswith(is_suffix))\n",
        "\n",
        "print(solution(\"banana\", \"ana\"))\n",
        "print(solution(\"banana\", \"nan\"))\n",
        "print(solution(\"banana\", \"wxyz\"))\n",
        "print(solution(\"banana\", \"abanana\"))\n",
        "\n",
        "\n",
        "# 슬라이싱 활용 간결화식\n",
        "# -> 단순 접미사로 존재하는지에 대한 여부이기 때문에 가능한 식\n",
        "\n",
        "def solution(my_string, is_suffix):\n",
        "    return 1 if my_string[-len(is_suffix):] == is_suffix else 0\n",
        "\n",
        "print(solution(\"banana\", \"ana\"))\n",
        "print(solution(\"banana\", \"nan\"))\n",
        "print(solution(\"banana\", \"wxyz\"))\n",
        "print(solution(\"banana\", \"abanana\"))"
      ],
      "metadata": {
        "colab": {
          "base_uri": "https://localhost:8080/"
        },
        "id": "DMpx_kWyeGdg",
        "outputId": "fa9adc08-6ca8-44c8-d5c1-f9c122e3c98f"
      },
      "execution_count": 87,
      "outputs": [
        {
          "output_type": "stream",
          "name": "stdout",
          "text": [
            "1\n",
            "0\n",
            "0\n",
            "0\n",
            "1\n",
            "0\n",
            "0\n",
            "0\n",
            "1\n",
            "0\n",
            "0\n",
            "0\n"
          ]
        }
      ]
    },
    {
      "cell_type": "code",
      "source": [
        "## 문제 54 : 접미사 배열\n",
        "\n",
        "\n",
        "# 기본 for문\n",
        "def solution(my_string):\n",
        "    answer = []\n",
        "    for i in range(len(my_string)):\n",
        "        answer.append(my_string[i:-1] + my_string[-1])\n",
        "    return sorted(answer)\n",
        "\n",
        "print(solution(\"banana\"))\n",
        "print(solution(\"programmers\"))\n",
        "\n",
        "\n",
        "# 제너레이터 표현식\n",
        "def solution(my_string):\n",
        "    return sorted(my_string[i:] for i in range(len(my_string)))\n",
        "\n",
        "print(solution(\"banana\"))\n",
        "print(solution(\"programmers\"))"
      ],
      "metadata": {
        "colab": {
          "base_uri": "https://localhost:8080/"
        },
        "id": "BnXrp_xgeGTL",
        "outputId": "f0815aaf-5949-4483-c94a-21b7c93c56a6"
      },
      "execution_count": 89,
      "outputs": [
        {
          "output_type": "stream",
          "name": "stdout",
          "text": [
            "['a', 'ana', 'anana', 'banana', 'na', 'nana']\n",
            "['ammers', 'ers', 'grammers', 'mers', 'mmers', 'ogrammers', 'programmers', 'rammers', 'rogrammers', 'rs', 's']\n",
            "['a', 'ana', 'anana', 'banana', 'na', 'nana']\n",
            "['ammers', 'ers', 'grammers', 'mers', 'mmers', 'ogrammers', 'programmers', 'rammers', 'rogrammers', 'rs', 's']\n"
          ]
        }
      ]
    }
  ]
}