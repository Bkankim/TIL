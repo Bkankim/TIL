{
  "nbformat": 4,
  "nbformat_minor": 0,
  "metadata": {
    "colab": {
      "provenance": [],
      "authorship_tag": "ABX9TyP5LfywuNN4f9JIR360MvPB",
      "include_colab_link": true
    },
    "kernelspec": {
      "name": "python3",
      "display_name": "Python 3"
    },
    "language_info": {
      "name": "python"
    }
  },
  "cells": [
    {
      "cell_type": "markdown",
      "metadata": {
        "id": "view-in-github",
        "colab_type": "text"
      },
      "source": [
        "<a href=\"https://colab.research.google.com/github/Bkankim/TIL/blob/main/%EC%95%8C%EA%B3%A0%EB%A6%AC%EC%A6%98_%EC%8A%A4%ED%84%B0%EB%94%94_2025_07_07.ipynb\" target=\"_parent\"><img src=\"https://colab.research.google.com/assets/colab-badge.svg\" alt=\"Open In Colab\"/></a>"
      ]
    },
    {
      "cell_type": "code",
      "execution_count": 112,
      "metadata": {
        "colab": {
          "base_uri": "https://localhost:8080/"
        },
        "id": "0zlujLDkH5Bf",
        "outputId": "dfcb3096-c7ed-4c81-c18e-1a11e59da068"
      },
      "outputs": [
        {
          "output_type": "stream",
          "name": "stdout",
          "text": [
            "2048\n",
            "229376\n",
            "2048\n",
            "229376\n",
            "2048\n",
            "229376\n"
          ]
        }
      ],
      "source": [
        "## 문제 47 : 세균 증식\n",
        "\n",
        "# 기본 for문\n",
        "def solution(n, t):\n",
        "    answer = n\n",
        "    for i in range(t):\n",
        "        answer *= 2\n",
        "    return answer\n",
        "\n",
        "print(solution(2, 10))\n",
        "print(solution(7, 15))\n",
        "\n",
        "\n",
        "# 간결화식 (n * 2^t)\n",
        "def solution(n, t):\n",
        "    return n * 2 ** t\n",
        "\n",
        "print(solution(2, 10))\n",
        "print(solution(7, 15))\n",
        "\n",
        "\n",
        "# 비트 시프트 표현식 ( << n = 2^n )\n",
        "def solution(n, t):\n",
        "    return n << t\n",
        "\n",
        "print(solution(2, 10))\n",
        "print(solution(7, 15))"
      ]
    },
    {
      "cell_type": "code",
      "source": [
        "## 문제 48 : 배열에서 문자열 대소문자 변환하기\n",
        "\n",
        "# 기본 for문\n",
        "def solution(strArr):\n",
        "    answer = []\n",
        "    for i in range(len(strArr)):\n",
        "        if i % 2 == 0:\n",
        "            answer.append(strArr[i].lower())\n",
        "        else:\n",
        "            answer.append(strArr[i].upper())\n",
        "    return answer\n",
        "\n",
        "print(solution([\"AAA\",\"BBB\",\"CCC\",\"DDD\"]))\n",
        "print(solution([\"aBc\",\"AbC\"]))\n",
        "\n",
        "\n",
        "# 리스트 컴프리헨션\n",
        "def solution(strArr):\n",
        "    return [strArr[i].lower() if i % 2 == 0 else strArr[i].upper() for i in range(len(strArr))]\n",
        "\n",
        "print(solution([\"AAA\",\"BBB\",\"CCC\",\"DDD\"]))\n",
        "print(solution([\"aBc\",\"AbC\"]))"
      ],
      "metadata": {
        "colab": {
          "base_uri": "https://localhost:8080/"
        },
        "id": "OPLQVtU5IQoz",
        "outputId": "6d91de4b-72c4-445a-ae6d-ac29cecd5d33"
      },
      "execution_count": 111,
      "outputs": [
        {
          "output_type": "stream",
          "name": "stdout",
          "text": [
            "['aaa', 'BBB', 'ccc', 'DDD']\n",
            "['abc', 'ABC']\n",
            "['aaa', 'BBB', 'ccc', 'DDD']\n",
            "['abc', 'ABC']\n"
          ]
        }
      ]
    },
    {
      "cell_type": "code",
      "source": [
        "## 문제 49 : 첫 번째로 나오는 음수\n",
        "\n",
        "# 기본 for문\n",
        "def solution(num_list):\n",
        "    for i in num_list:\n",
        "        if i < 0:\n",
        "            return num_list.index(i)\n",
        "    return -1\n",
        "\n",
        "print(solution([12, 4, 15, 46, 38, -2, 15]))\n",
        "print(solution([13, 22, 53, 24, 15, 6]))\n",
        "\n",
        "\n",
        "# next() 함수를 활용한 제너레이터식. 하지만, 시간복잡도 O(n^2). 개선필요\n",
        "def solution(num_list):\n",
        "    return next((num_list.index(i) for i in num_list if i < 0), -1)\n",
        "\n",
        "print(solution([12, 4, 15, 46, 38, -2, 15]))\n",
        "print(solution([13, 22, 53, 24, 15, 6]))\n",
        "\n",
        "\n",
        "# enumerate() 함수를 사용하여 시간복잡도를 O(n)으로 단축\n",
        "def solution(num_list):\n",
        "    return next((i for i, j in enumerate(num_list) if j < 0), -1)\n",
        "\n",
        "print(solution([12, 4, 15, 46, 38, -2, 15]))\n",
        "print(solution([13, 22, 53, 24, 15, 6]))"
      ],
      "metadata": {
        "colab": {
          "base_uri": "https://localhost:8080/"
        },
        "id": "Rgr4faJ7IQXL",
        "outputId": "648eae9c-394e-4c9a-f250-42a9d2a06e07"
      },
      "execution_count": 110,
      "outputs": [
        {
          "output_type": "stream",
          "name": "stdout",
          "text": [
            "5\n",
            "-1\n",
            "5\n",
            "-1\n",
            "5\n",
            "-1\n"
          ]
        }
      ]
    }
  ]
}