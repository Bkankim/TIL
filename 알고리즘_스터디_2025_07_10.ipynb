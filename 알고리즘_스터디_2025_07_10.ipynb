{
  "nbformat": 4,
  "nbformat_minor": 0,
  "metadata": {
    "colab": {
      "provenance": [],
      "authorship_tag": "ABX9TyMAjj+gIkHT5fCKIsZQLBSe",
      "include_colab_link": true
    },
    "kernelspec": {
      "name": "python3",
      "display_name": "Python 3"
    },
    "language_info": {
      "name": "python"
    }
  },
  "cells": [
    {
      "cell_type": "markdown",
      "metadata": {
        "id": "view-in-github",
        "colab_type": "text"
      },
      "source": [
        "<a href=\"https://colab.research.google.com/github/Bkankim/TIL/blob/main/%EC%95%8C%EA%B3%A0%EB%A6%AC%EC%A6%98_%EC%8A%A4%ED%84%B0%EB%94%94_2025_07_10.ipynb\" target=\"_parent\"><img src=\"https://colab.research.google.com/assets/colab-badge.svg\" alt=\"Open In Colab\"/></a>"
      ]
    },
    {
      "cell_type": "code",
      "execution_count": null,
      "metadata": {
        "colab": {
          "base_uri": "https://localhost:8080/"
        },
        "id": "z2rLrjjcCvJH",
        "outputId": "acb64f8c-9c17-4ded-b9bd-1cb6fc6a8277"
      },
      "outputs": [
        {
          "output_type": "stream",
          "name": "stdout",
          "text": [
            "[1, 3, 5, 7, 9]\n",
            "[1, 3, 5, 7, 9, 11, 13, 15]\n",
            "[1, 3, 5, 7, 9]\n",
            "[1, 3, 5, 7, 9, 11, 13, 15]\n"
          ]
        }
      ],
      "source": [
        "## 문제 55 : 짝수는 싫어요\n",
        "\n",
        "# 기본 for문\n",
        "def solution(n):\n",
        "    answer = []\n",
        "    for i in range(n + 1):\n",
        "        if i % 2 != 0:\n",
        "            answer.append(i)\n",
        "    return answer\n",
        "\n",
        "print(solution(10))\n",
        "print(solution(15))\n",
        "\n",
        "\n",
        "# 리스트 컴프리헨션\n",
        "def solution(n):\n",
        "    return [i for i in range(1, n + 1, 2) ]\n",
        "\n",
        "print(solution(10))\n",
        "print(solution(15))"
      ]
    },
    {
      "cell_type": "code",
      "source": [
        "## 문제 56 : 부분 문자열 이어 붙여 문자열 만들기\n",
        "\n",
        "# enumerate() 활용 for문 + 슬라이싱\n",
        "def solution(my_strings, parts):\n",
        "    answer = []\n",
        "    for i, j in enumerate(my_strings):\n",
        "        answer.append(j[parts[i][0] : parts[i][1] + 1])\n",
        "    return ''.join(answer)\n",
        "\n",
        "print(solution([\"progressive\", \"hamburger\", \"hammer\", \"ahocorasick\"], [[0, 4], [1, 2], [3, 5], [7, 7]]))\n",
        "\n",
        "\n",
        "# 리스트 컴프리헨션식 + 슬라이싱 + zip() + join\n",
        "def solution(my_strings, parts):\n",
        "    return ''.join([i[j[0] : j[1] + 1]for i, j in zip(my_strings, parts)])\n",
        "\n",
        "print(solution([\"progressive\", \"hamburger\", \"hammer\", \"ahocorasick\"], [[0, 4], [1, 2], [3, 5], [7, 7]]))"
      ],
      "metadata": {
        "id": "Rq2Qln8mEO1q",
        "colab": {
          "base_uri": "https://localhost:8080/"
        },
        "outputId": "8c81c04e-649c-4f0b-d85a-9d7541dae78e"
      },
      "execution_count": 41,
      "outputs": [
        {
          "output_type": "stream",
          "name": "stdout",
          "text": [
            "programmers\n",
            "programmers\n"
          ]
        }
      ]
    },
    {
      "cell_type": "code",
      "source": [
        "## 문제 57 : 9로 나눈 나머지\n",
        "\n",
        "# 단순 연산\n",
        "def solution(number):\n",
        "    return int(number) % 9\n",
        "\n",
        "print(solution(\"123\"))\n",
        "print(solution(\"78720646226947352489\"))"
      ],
      "metadata": {
        "id": "ghYn0I43EOi3",
        "colab": {
          "base_uri": "https://localhost:8080/"
        },
        "outputId": "bc368f1d-38a5-4883-942e-317b16c150ba"
      },
      "execution_count": 46,
      "outputs": [
        {
          "output_type": "stream",
          "name": "stdout",
          "text": [
            "6\n",
            "2\n"
          ]
        }
      ]
    },
    {
      "cell_type": "code",
      "source": [
        "## 번외 문제 8 : 옹알이 (1)\n",
        "\n",
        "# 이중for문 + 슬라이싱 + set() 활용식\n",
        "def solution(babbling):\n",
        "    answer = 0\n",
        "    can = [\"aya\", \"ye\", \"woo\", \"ma\"]\n",
        "    for i in range(len(babbling)):\n",
        "        for j in can:\n",
        "            if j in babbling[i]:\n",
        "                babbling[i] = babbling[i].replace(j, '@')\n",
        "        if {\"@\"} == set(babbling[i]):\n",
        "            answer += 1\n",
        "    return answer\n",
        "\n",
        "print(solution([\"aya\", \"yee\", \"u\", \"maa\", \"wyeoo\"]))\n",
        "print(solution([\"ayaye\", \"uuuma\", \"ye\", \"yemawoo\", \"ayaa\"]))"
      ],
      "metadata": {
        "colab": {
          "base_uri": "https://localhost:8080/"
        },
        "id": "mvoyIKkoYkkE",
        "outputId": "fd4d6480-88b6-4c4f-a073-1bdc3d6dff47"
      },
      "execution_count": 72,
      "outputs": [
        {
          "output_type": "stream",
          "name": "stdout",
          "text": [
            "1\n",
            "3\n"
          ]
        }
      ]
    }
  ]
}